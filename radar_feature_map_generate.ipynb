{
 "cells": [
  {
   "cell_type": "code",
   "execution_count": 19,
   "metadata": {},
   "outputs": [],
   "source": [
    "import torch\n",
    "import numpy as np\n",
    "import os\n",
    "import cv2\n",
    "import pandas as pd\n",
    "import matplotlib.pyplot as plt\n",
    "from PIL import Image\n",
    "from tqdm import tqdm\n",
    "np.set_printoptions(suppress=True)  # 取消科学计数法输出"
   ]
  },
  {
   "cell_type": "code",
   "execution_count": 20,
   "metadata": {},
   "outputs": [],
   "source": [
    "radar_root = \"E:/Big_Datasets/water_surface/benchmark_new/WaterScenes_new/radar/radar_0220/radar\""
   ]
  },
  {
   "cell_type": "code",
   "execution_count": 21,
   "metadata": {},
   "outputs": [],
   "source": [
    "save_radar_map_root = \"E:/Big_Datasets/water_surface/benchmark_new/WaterScenes_new/radar/VOCradar320\""
   ]
  },
  {
   "cell_type": "code",
   "execution_count": 22,
   "metadata": {},
   "outputs": [
    {
     "data": {
      "text/plain": [
       "54120"
      ]
     },
     "execution_count": 22,
     "metadata": {},
     "output_type": "execute_result"
    }
   ],
   "source": [
    "radar_files = os.listdir(radar_root)\n",
    "len(radar_files)"
   ]
  },
  {
   "cell_type": "code",
   "execution_count": 23,
   "metadata": {},
   "outputs": [],
   "source": [
    "# u and v represents the x and y on 2D image plane\n",
    "features_list = ['range', 'doppler', 'rcs', 'u', 'v']"
   ]
  },
  {
   "cell_type": "code",
   "execution_count": null,
   "metadata": {},
   "outputs": [],
   "source": [
    "resolution = 320"
   ]
  },
  {
   "cell_type": "code",
   "execution_count": 24,
   "metadata": {},
   "outputs": [
    {
     "name": "stderr",
     "output_type": "stream",
     "text": [
      "100%|████████████████████████████████████████████████████████████████████████████| 54120/54120 [12:14<00:00, 73.65it/s]\n"
     ]
    }
   ],
   "source": [
    "for i in tqdm(range(len(radar_files))):\n",
    "    example_file = os.path.join(radar_root, radar_files[i])\n",
    "    example_radar_points = pd.read_csv(example_file)[features_list].to_numpy()\n",
    "    example_radar_map = np.zeros((len(features_list)-2, resolution, resolution))\n",
    "    for channel in range(len(features_list)-2):\n",
    "        for line in example_radar_points:\n",
    "            try:\n",
    "                row_index = int(line[-2]/6)\n",
    "                column_index = int(line[-1]/3.375)\n",
    "                if example_radar_map[channel][row_index][column_index] != 0 and row_index>=1:\n",
    "                    row_index -= 1\n",
    "                \n",
    "                example_radar_map[channel][row_index][column_index] = line[channel]\n",
    "            except:\n",
    "                continue\n",
    "\n",
    "    example_radar_map = example_radar_map.transpose(0, 2, 1)\n",
    "    np.savez_compressed(os.path.join(save_radar_map_root, radar_files[i][:-4]+'.npz'), example_radar_map)\n",
    "    \n",
    "    "
   ]
  },
  {
   "cell_type": "code",
   "execution_count": null,
   "metadata": {},
   "outputs": [],
   "source": []
  }
 ],
 "metadata": {
  "kernelspec": {
   "display_name": "Python 3 (ipykernel)",
   "language": "python",
   "name": "python3"
  },
  "language_info": {
   "codemirror_mode": {
    "name": "ipython",
    "version": 3
   },
   "file_extension": ".py",
   "mimetype": "text/x-python",
   "name": "python",
   "nbconvert_exporter": "python",
   "pygments_lexer": "ipython3",
   "version": "3.9.12"
  }
 },
 "nbformat": 4,
 "nbformat_minor": 5
}
